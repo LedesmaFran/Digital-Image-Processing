{
 "cells": [
  {
   "cell_type": "markdown",
   "metadata": {},
   "source": [
    "# TP 4 - Procesamiento de Imagenes\n",
    "Grupo 4 <br>\n",
    "Integrantes:\n",
    "- Pablo Smolkin\n",
    "- Pedro Carranza Vélez\n",
    "- Philippe Dutriez Diaz\n",
    "- Francisco Daniel Ledesma"
   ]
  },
  {
   "cell_type": "markdown",
   "metadata": {},
   "source": [
    "Nota: Las funciones utilizadas se encuentran en el archivo functions.py"
   ]
  },
  {
   "cell_type": "code",
   "execution_count": 1,
   "metadata": {},
   "outputs": [],
   "source": [
    "from sys import path\n",
    "from os.path import realpath\n",
    "path.append(realpath(\"../\")) # Makes it works everywhere\n",
    "from common.functions import *"
   ]
  },
  {
   "cell_type": "code",
   "execution_count": 2,
   "metadata": {},
   "outputs": [],
   "source": [
    "from functions import *"
   ]
  },
  {
   "cell_type": "code",
   "execution_count": 3,
   "metadata": {},
   "outputs": [],
   "source": [
    "%load_ext autoreload\n",
    "%autoreload 2"
   ]
  },
  {
   "cell_type": "markdown",
   "metadata": {},
   "source": [
    "***\n",
    "### 1. Dada la imagen *lena_gray.tif* se pide obtener:\n",
    "\n",
    "* El negativo de la imagen.\n",
    "* Una transformación tal que convierta los valores entre [0.25 0.5] al rango [0 1].\n",
    "\n",
    "(Usar imadjust de Matlab pero implementarlo en Python)"
   ]
  },
  {
   "cell_type": "markdown",
   "metadata": {},
   "source": [
    "***\n",
    "### 2. Dada la imagen del globo ocular *eyebw.jpg*, buscar transformaciones que permitan resaltar las venas lo mejor posible."
   ]
  },
  {
   "cell_type": "markdown",
   "metadata": {},
   "source": [
    "***\n",
    "### 3. Bit Plane Slicing\n",
    "* Reproducir el ejemplo de la teoría del fractal 8 bit.\n",
    "* Dada la imagen *onedollar.jpg*, convertirla a niveles de gris y mostrar todos los bit-planes (8 bit). A partir de los bit-planes obtenidos, reconstruir la imagen usando diferentes bit-planes (Experimentar usando los planos 8-7-6-5-1)."
   ]
  },
  {
   "cell_type": "markdown",
   "metadata": {},
   "source": [
    "***\n",
    "### 4. Explicar que es un histograma de una imagen. Escribir un código para calcularlo."
   ]
  },
  {
   "cell_type": "markdown",
   "metadata": {},
   "source": [
    "***\n",
    "### 5. Explicar qué diferencia hay entre el brillo y contraste. Mostrar ejemplos."
   ]
  },
  {
   "cell_type": "markdown",
   "metadata": {},
   "source": [
    "***\n",
    "### 6. Escribir un código que modifique el brillo y contraste de una imagen."
   ]
  },
  {
   "cell_type": "markdown",
   "metadata": {},
   "source": [
    "***\n",
    "### 7.  ¿Para qué se usa la ecualización de un histograma? Dar ejemplos."
   ]
  },
  {
   "cell_type": "markdown",
   "metadata": {},
   "source": [
    "***\n",
    "### 8. High Dynamic Range (HDR) Imaging\n",
    "Investigar que es HDR y aplicarlo a las imágenes *office_x.jpg* (x=1-6).\n",
    "\n",
    "Tiempos de exposicion : [0.0333, 0.1000, 0.3333, 0.6250, 1.3000, 4.0000]\n",
    "\n",
    "Leer https://www.learnopencv.com/high-dynamic-range-hdr-imaging-using-opencv-cpp-python/"
   ]
  }
 ],
 "metadata": {
  "kernelspec": {
   "display_name": "Python 3.10.4 ('venv': venv)",
   "language": "python",
   "name": "python3"
  },
  "language_info": {
   "codemirror_mode": {
    "name": "ipython",
    "version": 3
   },
   "file_extension": ".py",
   "mimetype": "text/x-python",
   "name": "python",
   "nbconvert_exporter": "python",
   "pygments_lexer": "ipython3",
   "version": "3.10.4"
  },
  "orig_nbformat": 4,
  "vscode": {
   "interpreter": {
    "hash": "9bd504b9b1839f1ae14a8c03eebf8e9d49b6a13b3df643b05627ce87c6440254"
   }
  }
 },
 "nbformat": 4,
 "nbformat_minor": 2
}
