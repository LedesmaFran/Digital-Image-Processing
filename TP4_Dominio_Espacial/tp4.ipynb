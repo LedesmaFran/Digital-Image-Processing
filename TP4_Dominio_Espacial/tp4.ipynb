{
 "cells": [
  {
   "cell_type": "markdown",
   "metadata": {},
   "source": [
    "# TP 4 - Procesamiento de Imagenes\n",
    "Grupo 4 <br>\n",
    "Integrantes:\n",
    "- Pablo Smolkin\n",
    "- Pedro Carranza Vélez\n",
    "- Philippe Dutriez Diaz\n",
    "- Francisco Daniel Ledesma"
   ]
  },
  {
   "cell_type": "markdown",
   "metadata": {},
   "source": [
    "Nota: Las funciones utilizadas se encuentran en el archivo functions.py"
   ]
  },
  {
   "cell_type": "code",
   "execution_count": 1,
   "metadata": {},
   "outputs": [],
   "source": [
    "from sys import path\n",
    "from os.path import realpath\n",
    "path.append(realpath(\"../\")) # Makes it works everywhere\n",
    "from common.functions import *"
   ]
  },
  {
   "cell_type": "code",
   "execution_count": 2,
   "metadata": {},
   "outputs": [],
   "source": [
    "from functions import *"
   ]
  },
  {
   "cell_type": "code",
   "execution_count": 3,
   "metadata": {},
   "outputs": [],
   "source": [
    "%load_ext autoreload\n",
    "%autoreload 2"
   ]
  },
  {
   "cell_type": "markdown",
   "metadata": {},
   "source": [
    "***"
   ]
  }
 ],
 "metadata": {
  "kernelspec": {
   "display_name": "Python 3.8.3 ('venv': venv)",
   "language": "python",
   "name": "python3"
  },
  "language_info": {
   "codemirror_mode": {
    "name": "ipython",
    "version": 3
   },
   "file_extension": ".py",
   "mimetype": "text/x-python",
   "name": "python",
   "nbconvert_exporter": "python",
   "pygments_lexer": "ipython3",
   "version": "3.8.3"
  },
  "orig_nbformat": 4,
  "vscode": {
   "interpreter": {
    "hash": "a0ed4f214496f5370fcc0f3f34629a5f6f64575f0de0d5d6b69cc050f992c165"
   }
  }
 },
 "nbformat": 4,
 "nbformat_minor": 2
}
