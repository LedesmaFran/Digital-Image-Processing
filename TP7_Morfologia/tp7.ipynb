{
 "cells": [
  {
   "cell_type": "markdown",
   "metadata": {},
   "source": [
    "# TP 7 - Procesamiento de Imagenes\n",
    "Grupo 4 <br>\n",
    "Integrantes:\n",
    "- Pablo Smolkin\n",
    "- Pedro Carranza Vélez\n",
    "- Philippe Dutriez Diaz\n",
    "- Francisco Daniel Ledesma"
   ]
  },
  {
   "cell_type": "markdown",
   "metadata": {},
   "source": [
    "Nota: Las funciones utilizadas se encuentran en el archivo functions.py"
   ]
  },
  {
   "cell_type": "code",
   "execution_count": null,
   "metadata": {},
   "outputs": [],
   "source": [
    "from sys import path\n",
    "from os.path import realpath\n",
    "path.append(realpath(\"../\")) # Makes it works everywhere\n",
    "from common.functions import *\n",
    "import cv2"
   ]
  },
  {
   "cell_type": "code",
   "execution_count": null,
   "metadata": {},
   "outputs": [],
   "source": [
    "from functions import *"
   ]
  },
  {
   "cell_type": "code",
   "execution_count": null,
   "metadata": {},
   "outputs": [],
   "source": [
    "%load_ext autoreload\n",
    "%autoreload 2"
   ]
  },
  {
   "cell_type": "markdown",
   "metadata": {},
   "source": [
    "***\n",
    "# 1 -\n",
    "### Aplicar la operación de dilación a la imagen de la izquierda siendo el elemento estructural:\n",
    "#### B = [0, 1, 0; 1, 1, 1; 0, 1, 0]\n",
    "(Broken_Text.tif)"
   ]
  }
 ],
 "metadata": {
  "kernelspec": {
   "display_name": "Python 3.10.8 ('venv': venv)",
   "language": "python",
   "name": "python3"
  },
  "language_info": {
   "name": "python",
   "version": "3.10.8"
  },
  "orig_nbformat": 4,
  "vscode": {
   "interpreter": {
    "hash": "a0ed4f214496f5370fcc0f3f34629a5f6f64575f0de0d5d6b69cc050f992c165"
   }
  }
 },
 "nbformat": 4,
 "nbformat_minor": 2
}
