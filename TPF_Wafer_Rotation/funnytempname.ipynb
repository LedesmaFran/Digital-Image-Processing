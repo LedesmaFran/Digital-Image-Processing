{
 "cells": [
  {
   "cell_type": "code",
   "execution_count": 58,
   "metadata": {},
   "outputs": [],
   "source": [
    "import cv2\n",
    "import numpy as np"
   ]
  },
  {
   "cell_type": "code",
   "execution_count": 59,
   "metadata": {},
   "outputs": [],
   "source": [
    "line = cv2.imread('linea.png')\n",
    "gray = cv2.cvtColor(line, cv2.COLOR_BGR2GRAY).astype(np.uint8)"
   ]
  },
  {
   "cell_type": "code",
   "execution_count": 61,
   "metadata": {},
   "outputs": [],
   "source": [
    "with open(\"line.mem\", \"x\") as f:\n",
    "    for row in gray:\n",
    "        for pixel in row:\n",
    "            f.write(hex(pixel)[2:] + '\\n')"
   ]
  }
 ],
 "metadata": {
  "kernelspec": {
   "display_name": "venv",
   "language": "python",
   "name": "python3"
  },
  "language_info": {
   "codemirror_mode": {
    "name": "ipython",
    "version": 3
   },
   "file_extension": ".py",
   "mimetype": "text/x-python",
   "name": "python",
   "nbconvert_exporter": "python",
   "pygments_lexer": "ipython3",
   "version": "3.10.4"
  },
  "orig_nbformat": 4,
  "vscode": {
   "interpreter": {
    "hash": "9bd504b9b1839f1ae14a8c03eebf8e9d49b6a13b3df643b05627ce87c6440254"
   }
  }
 },
 "nbformat": 4,
 "nbformat_minor": 2
}
