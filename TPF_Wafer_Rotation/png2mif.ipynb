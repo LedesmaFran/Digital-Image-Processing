{
 "cells": [
  {
   "cell_type": "code",
   "execution_count": null,
   "metadata": {},
   "outputs": [],
   "source": [
    "from sys import path\n",
    "from os.path import realpath\n",
    "path.append(realpath(\"../\")) # Makes it works everywhere\n",
    "from PIL import Image\n",
    "import numpy as np"
   ]
  },
  {
   "cell_type": "code",
   "execution_count": 75,
   "metadata": {},
   "outputs": [],
   "source": [
    "path = 'imgs/linea.png'\n",
    "image = Image.open(path).convert('L')\n",
    "image = np.asarray(image)\n",
    "\n",
    "encoded_b2 = \"\"\n",
    "for i in image:\n",
    "    for j, el in enumerate(i):\n",
    "        encoded_b2 += format(el, '08b')\n",
    "\n",
    "encoded_b2 = '\\n'.join(encoded_b2[i:i+8] for i in range(0, len(encoded_b2), 8))"
   ]
  },
  {
   "cell_type": "code",
   "execution_count": 76,
   "metadata": {},
   "outputs": [],
   "source": [
    "with open('VHDL/images_in_fpga/src/linea.mif', 'w')  as outfile:   \n",
    "    outfile.write(encoded_b2)"
   ]
  },
  {
   "attachments": {},
   "cell_type": "markdown",
   "metadata": {},
   "source": [
    "Falta la vuelta (txt2png)"
   ]
  },
  {
   "cell_type": "code",
   "execution_count": null,
   "metadata": {},
   "outputs": [],
   "source": []
  }
 ],
 "metadata": {
  "kernelspec": {
   "display_name": "venv",
   "language": "python",
   "name": "python3"
  },
  "language_info": {
   "codemirror_mode": {
    "name": "ipython",
    "version": 3
   },
   "file_extension": ".py",
   "mimetype": "text/x-python",
   "name": "python",
   "nbconvert_exporter": "python",
   "pygments_lexer": "ipython3",
   "version": "3.10.8 (tags/v3.10.8:aaaf517, Oct 11 2022, 16:50:30) [MSC v.1933 64 bit (AMD64)]"
  },
  "orig_nbformat": 4,
  "vscode": {
   "interpreter": {
    "hash": "a0ed4f214496f5370fcc0f3f34629a5f6f64575f0de0d5d6b69cc050f992c165"
   }
  }
 },
 "nbformat": 4,
 "nbformat_minor": 2
}
