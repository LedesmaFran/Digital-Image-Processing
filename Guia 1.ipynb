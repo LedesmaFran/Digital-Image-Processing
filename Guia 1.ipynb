{
 "cells": [
  {
   "cell_type": "markdown",
   "metadata": {},
   "source": [
    "# GUIA 1 - Procesamiento de Imagenes\n",
    "Grupo 4 <br>\n",
    "Integrantes:\n",
    "- Pablo Smolkin\n",
    "- Pedro Carranza Vélez\n",
    "- Philippe Dutriez Diaz\n",
    "- Francisco Daniel Ledesma"
   ]
  },
  {
   "cell_type": "code",
   "execution_count": 2,
   "metadata": {},
   "outputs": [],
   "source": [
    "from functions import *"
   ]
  },
  {
   "cell_type": "code",
   "execution_count": 3,
   "metadata": {},
   "outputs": [
    {
     "name": "stdout",
     "output_type": "stream",
     "text": [
      "hola\n"
     ]
    }
   ],
   "source": [
    "test()"
   ]
  },
  {
   "cell_type": "markdown",
   "metadata": {},
   "source": [
    "<img src=\"mono.bmp\" alt=\"mono consigna\" title=\"imagen mono consigna\" />"
   ]
  }
 ],
 "metadata": {
  "kernelspec": {
   "display_name": "Python 3.8.8 64-bit",
   "language": "python",
   "name": "python3"
  },
  "language_info": {
   "codemirror_mode": {
    "name": "ipython",
    "version": 3
   },
   "file_extension": ".py",
   "mimetype": "text/x-python",
   "name": "python",
   "nbconvert_exporter": "python",
   "pygments_lexer": "ipython3",
   "version": "3.8.8"
  },
  "orig_nbformat": 4,
  "vscode": {
   "interpreter": {
    "hash": "a5bfc313d7a33ac8c4767ea85b625c79a8a00b236dd12f9cdd16d231491932dc"
   }
  }
 },
 "nbformat": 4,
 "nbformat_minor": 2
}
